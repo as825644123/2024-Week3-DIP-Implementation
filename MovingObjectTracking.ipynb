{
 "cells": [
  {
   "cell_type": "code",
   "execution_count": 286,
   "metadata": {},
   "outputs": [],
   "source": [
    "import cv2\n",
    "import numpy as np"
   ]
  },
  {
   "cell_type": "code",
   "execution_count": 287,
   "metadata": {},
   "outputs": [
    {
     "name": "stdout",
     "output_type": "stream",
     "text": [
      "Frames per second: 30.0\n"
     ]
    }
   ],
   "source": [
    "cap = cv2.VideoCapture('Good_horizon_2.mp4')\n",
    "\n",
    "fps = cap.get(cv2.CAP_PROP_FPS)\n",
    "print(f\"Frames per second: {fps}\")\n",
    "frame_delay = int(1000 / fps)  # 毫秒"
   ]
  },
  {
   "cell_type": "code",
   "execution_count": 288,
   "metadata": {},
   "outputs": [],
   "source": [
    "kernel = np.ones((3, 3), np.uint8)\n",
    "\n",
    "def Denoise(RGBImage, ksize):\n",
    "    img_blur= cv2.medianBlur(RGBImage, ksize)\n",
    "    return img_blur\n",
    "\n",
    "def Open(GrayImage, erode, dilate):\n",
    "    img_erode = cv2.erode(GrayImage, kernel, iterations = erode)\n",
    "    img_dilate = cv2.dilate(img_erode, kernel, iterations = dilate)\n",
    "    return img_dilate\n",
    "\n",
    "def Close(GrayImage, erode, dilate):\n",
    "    img_dilate = cv2.dilate(GrayImage, kernel, iterations = dilate)\n",
    "    img_erode = cv2.erode(img_dilate, kernel, iterations = erode)\n",
    "    return img_erode"
   ]
  },
  {
   "cell_type": "code",
   "execution_count": 289,
   "metadata": {},
   "outputs": [],
   "source": [
    "clahe = cv2.createCLAHE(clipLimit=2.0, tileGridSize=(8, 8))\n",
    "\n",
    "while(cap.isOpened()):\n",
    "    ret, frame = cap.read()\n",
    "    if not ret:\n",
    "        print(\"Video is end.\")\n",
    "        break\n",
    "    frame = cv2.resize(frame, (0, 0), fx=0.5, fy=0.5)\n",
    "    \n",
    "    frame_denoise = Denoise(frame, 5)\n",
    "    gray = cv2.cvtColor(frame_denoise, cv2.COLOR_RGB2GRAY)\n",
    "    gray_HistEq = clahe.apply(gray)\n",
    "    \n",
    "    __, binary = cv2.threshold(gray_HistEq, 0, 255, cv2.THRESH_BINARY + cv2.THRESH_OTSU)\n",
    "    binary_close = Open(binary, 5, 3)\n",
    "    contours, __ = cv2.findContours(binary_close, cv2.RETR_EXTERNAL, cv2.CHAIN_APPROX_NONE)\n",
    "    for cnt in contours:\n",
    "        area = cv2.contourArea(cnt)\n",
    "        if(area > 150000 and area < 200000):\n",
    "            cv2.drawContours(frame, cnt, -1, (0, 255, 0), 4)\n",
    "\n",
    "    cv2.imshow(\"Frame\", frame)\n",
    "    key = cv2.waitKey(frame_delay)\n",
    "    if key == 27:\n",
    "        break\n",
    "\n",
    "cap.release()\n",
    "cv2.destroyAllWindows()"
   ]
  }
 ],
 "metadata": {
  "kernelspec": {
   "display_name": "Python 3",
   "language": "python",
   "name": "python3"
  },
  "language_info": {
   "codemirror_mode": {
    "name": "ipython",
    "version": 3
   },
   "file_extension": ".py",
   "mimetype": "text/x-python",
   "name": "python",
   "nbconvert_exporter": "python",
   "pygments_lexer": "ipython3",
   "version": "3.10.5"
  }
 },
 "nbformat": 4,
 "nbformat_minor": 2
}
